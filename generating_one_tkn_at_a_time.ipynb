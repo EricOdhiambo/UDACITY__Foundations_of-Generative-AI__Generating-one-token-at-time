{
  "nbformat": 4,
  "nbformat_minor": 0,
  "metadata": {
    "colab": {
      "provenance": [],
      "authorship_tag": "ABX9TyNC9hPYFByDgOY/bIzskW6h",
      "include_colab_link": true
    },
    "kernelspec": {
      "name": "python3",
      "display_name": "Python 3"
    },
    "language_info": {
      "name": "python"
    }
  },
  "cells": [
    {
      "cell_type": "markdown",
      "metadata": {
        "id": "view-in-github",
        "colab_type": "text"
      },
      "source": [
        "<a href=\"https://colab.research.google.com/github/EricOdhiambo/UDACITY__Foundations_of-Generative-AI__Generating-one-token-at-time/blob/main/generating_one_tkn_at_a_time.ipynb\" target=\"_parent\"><img src=\"https://colab.research.google.com/assets/colab-badge.svg\" alt=\"Open In Colab\"/></a>"
      ]
    },
    {
      "cell_type": "markdown",
      "source": [
        "# Generating one token at a time"
      ],
      "metadata": {
        "id": "GolVa4mxjjQn"
      }
    },
    {
      "cell_type": "markdown",
      "source": [
        "### Step 1. Load a tokenizer and a model\n",
        "We first load a tokenizer and a model from HuggingFaces's transformers library. *A tokenizer is a function that splits a string into a list of numbers that the model can understand*."
      ],
      "metadata": {
        "id": "W_6Mzyz6jxpb"
      }
    },
    {
      "cell_type": "code",
      "source": [
        "#importing dependencies\n",
        "from transformers import AutoTokenizer , AutoModelForCausalLM"
      ],
      "metadata": {
        "id": "Qe62pBYjjwIh"
      },
      "execution_count": 1,
      "outputs": []
    },
    {
      "cell_type": "code",
      "source": [
        "#loading a tokenizer and a pretrained model\n",
        "our_tokenizer = AutoTokenizer.from_pretrained(\"gpt2\")\n",
        "our_model = AutoModelForCausalLM.from_pretrained(\"gpt2\")\n",
        "\n",
        "#create a partial sentence and tokenize it\n",
        "custom_text = \"I am curious to learn, master and be able to use generative\"\n",
        "inputs = our_tokenizer(custom_text, return_tensors=\"pt\")\n",
        "\n",
        "#show the tokens as numbers, i.e 'input_ids'\n",
        "inputs[\"input_ids\"]"
      ],
      "metadata": {
        "colab": {
          "base_uri": "https://localhost:8080/"
        },
        "id": "95uXGGSBlUNp",
        "outputId": "2793a5ee-03f8-4aa7-99f4-3dc7a2242cd2"
      },
      "execution_count": 5,
      "outputs": [
        {
          "output_type": "execute_result",
          "data": {
            "text/plain": [
              "tensor([[   40,   716, 11040,   284,  2193,    11,  4958,   290,   307,  1498,\n",
              "           284,   779,  1152,   876]])"
            ]
          },
          "metadata": {},
          "execution_count": 5
        }
      ]
    },
    {
      "cell_type": "code",
      "source": [],
      "metadata": {
        "id": "FeS_V8fYruRo"
      },
      "execution_count": null,
      "outputs": []
    }
  ]
}