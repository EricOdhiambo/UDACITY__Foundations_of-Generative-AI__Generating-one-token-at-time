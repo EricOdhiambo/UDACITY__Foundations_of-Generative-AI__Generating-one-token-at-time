{
  "nbformat": 4,
  "nbformat_minor": 0,
  "metadata": {
    "colab": {
      "provenance": [],
      "authorship_tag": "ABX9TyMw4mk5idGdiA1Tozw5qYT6",
      "include_colab_link": true
    },
    "kernelspec": {
      "name": "python3",
      "display_name": "Python 3"
    },
    "language_info": {
      "name": "python"
    }
  },
  "cells": [
    {
      "cell_type": "markdown",
      "metadata": {
        "id": "view-in-github",
        "colab_type": "text"
      },
      "source": [
        "<a href=\"https://colab.research.google.com/github/EricOdhiambo/Generating-one-token-at-time--UDACITY--Foundations-of-Generative-AI/blob/main/generating_one_tkn_at_a_time.ipynb\" target=\"_parent\"><img src=\"https://colab.research.google.com/assets/colab-badge.svg\" alt=\"Open In Colab\"/></a>"
      ]
    },
    {
      "cell_type": "markdown",
      "source": [
        "# Generating one token at a time"
      ],
      "metadata": {
        "id": "GolVa4mxjjQn"
      }
    },
    {
      "cell_type": "markdown",
      "source": [
        "### Step 1. Load a tokenizer and a model\n",
        "We first load a tokenizer and a model from HuggingFaces's transformers library. *A tokenizer is a function that splits a string into a list of numbers that the model can understand*."
      ],
      "metadata": {
        "id": "W_6Mzyz6jxpb"
      }
    },
    {
      "cell_type": "code",
      "source": [
        "#importing dependencies\n",
        "from transformers import AutoTokenizer , AutoModelForCausalLM"
      ],
      "metadata": {
        "id": "Qe62pBYjjwIh"
      },
      "execution_count": 1,
      "outputs": []
    },
    {
      "cell_type": "code",
      "source": [],
      "metadata": {
        "id": "95uXGGSBlUNp"
      },
      "execution_count": null,
      "outputs": []
    }
  ]
}